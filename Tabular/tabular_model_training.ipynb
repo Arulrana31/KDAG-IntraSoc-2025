{
 "metadata": {
  "kernelspec": {
   "language": "python",
   "display_name": "Python 3",
   "name": "python3"
  },
  "language_info": {
   "name": "python",
   "version": "3.10.13",
   "mimetype": "text/x-python",
   "codemirror_mode": {
    "name": "ipython",
    "version": 3
   },
   "pygments_lexer": "ipython3",
   "nbconvert_exporter": "python",
   "file_extension": ".py"
  },
  "kaggle": {
   "accelerator": "none",
   "dataSources": [
    {
     "sourceId": 63056,
     "databundleVersionId": 9094797,
     "sourceType": "competition"
    },
    {
     "sourceId": 12707693,
     "sourceType": "datasetVersion",
     "datasetId": 8031394
    },
    {
     "sourceId": 12761847,
     "sourceType": "datasetVersion",
     "datasetId": 8067488
    }
   ],
   "dockerImageVersionId": 30732,
   "isInternetEnabled": false,
   "language": "python",
   "sourceType": "notebook",
   "isGpuEnabled": false
  }
 },
 "nbformat_minor": 4,
 "nbformat": 4,
 "cells": [
  {
   "cell_type": "code",
   "source": [
    "\n",
    "import pandas as pd\n",
    "\n",
    "import matplotlib.pyplot as plt\n",
    "\n",
    "from sklearn.preprocessing import OrdinalEncoder\n",
    "from sklearn.metrics import roc_curve, auc, roc_auc_score \n",
    "from sklearn.model_selection import GroupKFold, StratifiedGroupKFold\n",
    "\n",
    "import lightgbm as lgb\n",
    "\n",
    "from sklearn.model_selection import StratifiedGroupKFold\n",
    "import numpy as np\n",
    "\n",
    "from sklearn.metrics import classification_report, roc_auc_score\n",
    "from sklearn.ensemble import VotingClassifier\n",
    "from imblearn.over_sampling import SMOTE\n",
    "\n",
    "from sklearn.metrics import confusion_matrix"
   ],
   "metadata": {
    "execution": {
     "iopub.status.busy": "2025-08-15T13:52:56.075225Z",
     "iopub.execute_input": "2025-08-15T13:52:56.075493Z",
     "iopub.status.idle": "2025-08-15T13:53:00.014254Z",
     "shell.execute_reply.started": "2025-08-15T13:52:56.075469Z",
     "shell.execute_reply": "2025-08-15T13:53:00.013256Z"
    },
    "trusted": true
   },
   "outputs": [],
   "execution_count": 1
  },
  {
   "metadata": {},
   "cell_type": "markdown",
   "source": "### NOT TOUCHING VALIDATION SET FOR BETA MODEL\n"
  },
  {
   "cell_type": "code",
   "source": "metadata = pd.read_csv(\"/kaggle/input/isic-kdag/subject_data_train.csv\")",
   "metadata": {
    "trusted": true,
    "execution": {
     "iopub.status.busy": "2025-08-15T13:53:00.015380Z",
     "iopub.execute_input": "2025-08-15T13:53:00.015839Z",
     "iopub.status.idle": "2025-08-15T13:53:08.990208Z",
     "shell.execute_reply.started": "2025-08-15T13:53:00.015811Z",
     "shell.execute_reply": "2025-08-15T13:53:08.989137Z"
    }
   },
   "outputs": [
    {
     "name": "stderr",
     "text": "/tmp/ipykernel_32/63248436.py:1: DtypeWarning: Columns (51,52) have mixed types. Specify dtype option on import or set low_memory=False.\n  metadata = pd.read_csv(\"/kaggle/input/isic-kdag/subject_data.csv\")\n",
     "output_type": "stream"
    }
   ],
   "execution_count": 2
  },
  {
   "cell_type": "code",
   "source": "missing_counts = metadata.isna().sum()\n\nprint(missing_counts)",
   "metadata": {
    "trusted": true,
    "execution": {
     "iopub.status.busy": "2025-08-15T13:53:09.147093Z",
     "iopub.execute_input": "2025-08-15T13:53:09.147527Z",
     "iopub.status.idle": "2025-08-15T13:53:09.466794Z",
     "shell.execute_reply.started": "2025-08-15T13:53:09.147468Z",
     "shell.execute_reply": "2025-08-15T13:53:09.465748Z"
    }
   },
   "outputs": [
    {
     "name": "stdout",
     "text": "isic_id                              0\ntarget                               0\npatient_id                           0\nage_approx                        2798\nsex                              11517\nanatom_site_general               5756\nclin_size_long_diam_mm               0\nimage_type                           0\ntbp_tile_type                        0\ntbp_lv_A                             0\ntbp_lv_Aext                          0\ntbp_lv_B                             0\ntbp_lv_Bext                          0\ntbp_lv_C                             0\ntbp_lv_Cext                          0\ntbp_lv_H                             0\ntbp_lv_Hext                          0\ntbp_lv_L                             0\ntbp_lv_Lext                          0\ntbp_lv_areaMM2                       0\ntbp_lv_area_perim_ratio              0\ntbp_lv_color_std_mean                0\ntbp_lv_deltaA                        0\ntbp_lv_deltaB                        0\ntbp_lv_deltaL                        0\ntbp_lv_deltaLB                       0\ntbp_lv_deltaLBnorm                   0\ntbp_lv_eccentricity                  0\ntbp_lv_location                      0\ntbp_lv_location_simple               0\ntbp_lv_minorAxisMM                   0\ntbp_lv_nevi_confidence               0\ntbp_lv_norm_border                   0\ntbp_lv_norm_color                    0\ntbp_lv_perimeterMM                   0\ntbp_lv_radial_color_std_max          0\ntbp_lv_stdL                          0\ntbp_lv_stdLExt                       0\ntbp_lv_symm_2axis                    0\ntbp_lv_symm_2axis_angle              0\ntbp_lv_x                             0\ntbp_lv_y                             0\ntbp_lv_z                             0\nattribution                          0\ncopyright_license                    0\nlesion_id                       379001\niddx_full                            0\niddx_1                               0\niddx_2                          399991\niddx_3                          399994\niddx_4                          400508\niddx_5                          401058\nmel_mitotic_index               401006\nmel_thick_mm                    400996\ntbp_lv_dnn_lesion_confidence         0\ndtype: int64\n",
     "output_type": "stream"
    }
   ],
   "execution_count": 5
  },
  {
   "cell_type": "markdown",
   "source": "### DROP REDUNDANT COLUMNS (too much missing data)",
   "metadata": {}
  },
  {
   "cell_type": "code",
   "source": "metadata.drop(columns=['iddx_2','iddx_3','iddx_4','iddx_5','lesion_id','mel_mitotic_index','mel_thick_mm'], inplace=True)\n\nmissing_counts = metadata.isna().sum()\n\nprint(missing_counts)\nprint(len(metadata))",
   "metadata": {
    "trusted": true,
    "execution": {
     "iopub.status.busy": "2025-08-15T13:53:09.467894Z",
     "iopub.execute_input": "2025-08-15T13:53:09.468168Z",
     "iopub.status.idle": "2025-08-15T13:53:09.769383Z",
     "shell.execute_reply.started": "2025-08-15T13:53:09.468144Z",
     "shell.execute_reply": "2025-08-15T13:53:09.768107Z"
    }
   },
   "outputs": [
    {
     "name": "stdout",
     "text": "isic_id                             0\ntarget                              0\npatient_id                          0\nage_approx                       2798\nsex                             11517\nanatom_site_general              5756\nclin_size_long_diam_mm              0\nimage_type                          0\ntbp_tile_type                       0\ntbp_lv_A                            0\ntbp_lv_Aext                         0\ntbp_lv_B                            0\ntbp_lv_Bext                         0\ntbp_lv_C                            0\ntbp_lv_Cext                         0\ntbp_lv_H                            0\ntbp_lv_Hext                         0\ntbp_lv_L                            0\ntbp_lv_Lext                         0\ntbp_lv_areaMM2                      0\ntbp_lv_area_perim_ratio             0\ntbp_lv_color_std_mean               0\ntbp_lv_deltaA                       0\ntbp_lv_deltaB                       0\ntbp_lv_deltaL                       0\ntbp_lv_deltaLB                      0\ntbp_lv_deltaLBnorm                  0\ntbp_lv_eccentricity                 0\ntbp_lv_location                     0\ntbp_lv_location_simple              0\ntbp_lv_minorAxisMM                  0\ntbp_lv_nevi_confidence              0\ntbp_lv_norm_border                  0\ntbp_lv_norm_color                   0\ntbp_lv_perimeterMM                  0\ntbp_lv_radial_color_std_max         0\ntbp_lv_stdL                         0\ntbp_lv_stdLExt                      0\ntbp_lv_symm_2axis                   0\ntbp_lv_symm_2axis_angle             0\ntbp_lv_x                            0\ntbp_lv_y                            0\ntbp_lv_z                            0\nattribution                         0\ncopyright_license                   0\niddx_full                           0\niddx_1                              0\ntbp_lv_dnn_lesion_confidence        0\ndtype: int64\n401059\n",
     "output_type": "stream"
    }
   ],
   "execution_count": 6
  },
  {
   "cell_type": "markdown",
   "source": "### IMPUTE MISSING ROWS\n",
   "metadata": {}
  },
  {
   "cell_type": "code",
   "source": "if \"age_approx\" in metadata.columns:\n    med_age = metadata[\"age_approx\"].median()\n    metadata[\"age_approx\"] = metadata[\"age_approx\"].fillna(med_age)\n\nfor col in [\"sex\", \"anatom_site_general\"]:\n    metadata[col] = metadata[col].fillna(\"missing\").astype(str)\n\n\nmissing_counts = metadata.isna().sum()\n\nprint(missing_counts)\nprint(len(metadata))",
   "metadata": {
    "trusted": true,
    "execution": {
     "iopub.status.busy": "2025-08-15T13:53:09.770591Z",
     "iopub.execute_input": "2025-08-15T13:53:09.770876Z",
     "iopub.status.idle": "2025-08-15T13:53:10.093991Z",
     "shell.execute_reply.started": "2025-08-15T13:53:09.770852Z",
     "shell.execute_reply": "2025-08-15T13:53:10.092940Z"
    }
   },
   "outputs": [
    {
     "name": "stdout",
     "text": "isic_id                         0\ntarget                          0\npatient_id                      0\nage_approx                      0\nsex                             0\nanatom_site_general             0\nclin_size_long_diam_mm          0\nimage_type                      0\ntbp_tile_type                   0\ntbp_lv_A                        0\ntbp_lv_Aext                     0\ntbp_lv_B                        0\ntbp_lv_Bext                     0\ntbp_lv_C                        0\ntbp_lv_Cext                     0\ntbp_lv_H                        0\ntbp_lv_Hext                     0\ntbp_lv_L                        0\ntbp_lv_Lext                     0\ntbp_lv_areaMM2                  0\ntbp_lv_area_perim_ratio         0\ntbp_lv_color_std_mean           0\ntbp_lv_deltaA                   0\ntbp_lv_deltaB                   0\ntbp_lv_deltaL                   0\ntbp_lv_deltaLB                  0\ntbp_lv_deltaLBnorm              0\ntbp_lv_eccentricity             0\ntbp_lv_location                 0\ntbp_lv_location_simple          0\ntbp_lv_minorAxisMM              0\ntbp_lv_nevi_confidence          0\ntbp_lv_norm_border              0\ntbp_lv_norm_color               0\ntbp_lv_perimeterMM              0\ntbp_lv_radial_color_std_max     0\ntbp_lv_stdL                     0\ntbp_lv_stdLExt                  0\ntbp_lv_symm_2axis               0\ntbp_lv_symm_2axis_angle         0\ntbp_lv_x                        0\ntbp_lv_y                        0\ntbp_lv_z                        0\nattribution                     0\ncopyright_license               0\niddx_full                       0\niddx_1                          0\ntbp_lv_dnn_lesion_confidence    0\ndtype: int64\n401059\n",
     "output_type": "stream"
    }
   ],
   "execution_count": 7
  },
  {
   "cell_type": "code",
   "source": "for col in metadata.columns:\n    print(col, len(metadata[col].unique()))",
   "metadata": {
    "trusted": true,
    "execution": {
     "iopub.status.busy": "2025-08-15T13:53:10.095173Z",
     "iopub.execute_input": "2025-08-15T13:53:10.095466Z",
     "iopub.status.idle": "2025-08-15T13:53:11.111058Z",
     "shell.execute_reply.started": "2025-08-15T13:53:10.095439Z",
     "shell.execute_reply": "2025-08-15T13:53:11.109787Z"
    }
   },
   "outputs": [
    {
     "name": "stdout",
     "text": "isic_id 401059\ntarget 2\npatient_id 1042\nage_approx 16\nsex 3\nanatom_site_general 6\nclin_size_long_diam_mm 1758\nimage_type 1\ntbp_tile_type 2\ntbp_lv_A 386052\ntbp_lv_Aext 385304\ntbp_lv_B 389890\ntbp_lv_Bext 387763\ntbp_lv_C 390703\ntbp_lv_Cext 388865\ntbp_lv_H 389798\ntbp_lv_Hext 390743\ntbp_lv_L 395726\ntbp_lv_Lext 396358\ntbp_lv_areaMM2 8029\ntbp_lv_area_perim_ratio 167648\ntbp_lv_color_std_mean 371189\ntbp_lv_deltaA 398257\ntbp_lv_deltaB 398886\ntbp_lv_deltaL 396505\ntbp_lv_deltaLB 395511\ntbp_lv_deltaLBnorm 396877\ntbp_lv_eccentricity 396648\ntbp_lv_location 21\ntbp_lv_location_simple 8\ntbp_lv_minorAxisMM 75669\ntbp_lv_nevi_confidence 395242\ntbp_lv_norm_border 391372\ntbp_lv_norm_color 368742\ntbp_lv_perimeterMM 9492\ntbp_lv_radial_color_std_max 367566\ntbp_lv_stdL 396459\ntbp_lv_stdLExt 390080\ntbp_lv_symm_2axis 74825\ntbp_lv_symm_2axis_angle 36\ntbp_lv_x 398446\ntbp_lv_y 382410\ntbp_lv_z 392817\nattribution 7\ncopyright_license 3\niddx_full 52\niddx_1 3\ntbp_lv_dnn_lesion_confidence 131480\n",
     "output_type": "stream"
    }
   ],
   "execution_count": 8
  },
  {
   "cell_type": "markdown",
   "source": "## FEATURE ENGINEERING",
   "metadata": {}
  },
  {
   "cell_type": "code",
   "source": "def feature_engineering(df):\n    df[\"lesion_size_ratio\"] = df[\"tbp_lv_minorAxisMM\"] / df[\"clin_size_long_diam_mm\"]\n    df[\"lesion_shape_index\"] = df[\"tbp_lv_areaMM2\"] / (df[\"tbp_lv_perimeterMM\"] ** 2)\n    df[\"hue_contrast\"] = (df[\"tbp_lv_H\"] - df[\"tbp_lv_Hext\"]).abs()\n    df[\"luminance_contrast\"] = (df[\"tbp_lv_L\"] - df[\"tbp_lv_Lext\"]).abs()\n    df[\"lesion_color_difference\"] = np.sqrt(df[\"tbp_lv_deltaA\"] ** 2 + df[\"tbp_lv_deltaB\"] ** 2 + df[\"tbp_lv_deltaL\"] ** 2)\n    df[\"border_complexity\"] = df[\"tbp_lv_norm_border\"] + df[\"tbp_lv_symm_2axis\"]\n    df[\"3d_position_distance\"] = np.sqrt(df[\"tbp_lv_x\"] ** 2 + df[\"tbp_lv_y\"] ** 2 + df[\"tbp_lv_z\"] ** 2) \n    df[\"perimeter_to_area_ratio\"] = df[\"tbp_lv_perimeterMM\"] / df[\"tbp_lv_areaMM2\"]\n    df[\"lesion_visibility_score\"] = df[\"tbp_lv_deltaLBnorm\"] + df[\"tbp_lv_norm_color\"]\n    df[\"combined_anatomical_site\"] = df[\"anatom_site_general\"] + \"_\" + df[\"tbp_lv_location\"]\n    df[\"symmetry_border_consistency\"] = df[\"tbp_lv_symm_2axis\"] * df[\"tbp_lv_norm_border\"]\n    df[\"color_consistency\"] = df[\"tbp_lv_stdL\"] / df[\"tbp_lv_Lext\"]\n    df[\"size_age_interaction\"] = df[\"clin_size_long_diam_mm\"] * df[\"age_approx\"]\n    df[\"hue_color_std_interaction\"] = df[\"tbp_lv_H\"] * df[\"tbp_lv_color_std_mean\"]\n    df[\"lesion_severity_index\"] = (df[\"tbp_lv_norm_border\"] + df[\"tbp_lv_norm_color\"] + df[\"tbp_lv_eccentricity\"]) / 3\n    df[\"shape_complexity_index\"] = df[\"border_complexity\"] + df[\"lesion_shape_index\"]\n    df[\"color_contrast_index\"] = df[\"tbp_lv_deltaA\"] + df[\"tbp_lv_deltaB\"] + df[\"tbp_lv_deltaL\"] + df[\"tbp_lv_deltaLBnorm\"]\n    df[\"log_lesion_area\"] = np.log(df[\"tbp_lv_areaMM2\"] + 1)\n    df[\"normalized_lesion_size\"] = df[\"clin_size_long_diam_mm\"] / df[\"age_approx\"]\n    df[\"mean_hue_difference\"] = (df[\"tbp_lv_H\"] + df[\"tbp_lv_Hext\"]) / 2\n    df[\"std_dev_contrast\"] = np.sqrt((df[\"tbp_lv_deltaA\"] ** 2 + df[\"tbp_lv_deltaB\"] ** 2 + df[\"tbp_lv_deltaL\"] ** 2) / 3)\n    df[\"color_shape_composite_index\"] = (df[\"tbp_lv_color_std_mean\"] + df[\"tbp_lv_area_perim_ratio\"] + df[\"tbp_lv_symm_2axis\"]) / 3\n    df[\"3d_lesion_orientation\"] = np.arctan2(df[\"tbp_lv_y\"], df[\"tbp_lv_x\"])\n    df[\"overall_color_difference\"] = (df[\"tbp_lv_deltaA\"] + df[\"tbp_lv_deltaB\"] + df[\"tbp_lv_deltaL\"]) / 3\n    df[\"symmetry_perimeter_interaction\"] = df[\"tbp_lv_symm_2axis\"] * df[\"tbp_lv_perimeterMM\"]\n    df[\"comprehensive_lesion_index\"] = (df[\"tbp_lv_area_perim_ratio\"] + df[\"tbp_lv_eccentricity\"] + df[\"tbp_lv_norm_color\"] + df[\"tbp_lv_symm_2axis\"]) / 4\n\n    new_num_cols = [\n        \"lesion_size_ratio\", \"lesion_shape_index\", \"hue_contrast\",\n        \"luminance_contrast\", \"lesion_color_difference\", \"border_complexity\", \n        \"3d_position_distance\", \"perimeter_to_area_ratio\",\n        \"lesion_visibility_score\", \"symmetry_border_consistency\", \"color_consistency\",\n        \"size_age_interaction\", \"hue_color_std_interaction\", \"lesion_severity_index\", \n        \"shape_complexity_index\", \"color_contrast_index\", \"log_lesion_area\",\n        \"normalized_lesion_size\", \"mean_hue_difference\", \"std_dev_contrast\",\n        \"color_shape_composite_index\", \"3d_lesion_orientation\", \"overall_color_difference\",\n        \"symmetry_perimeter_interaction\", \"comprehensive_lesion_index\",\n    ]\n    new_cat_cols = [\"combined_anatomical_site\"]\n    return df, new_num_cols, new_cat_cols\n\nmetadata, new_num_cols, new_cat_cols = feature_engineering(metadata.copy())\n    \nnum_cols = [\n    'age_approx', 'clin_size_long_diam_mm', 'tbp_lv_A', 'tbp_lv_Aext', 'tbp_lv_B', 'tbp_lv_Bext', \n    'tbp_lv_C', 'tbp_lv_Cext', 'tbp_lv_H', 'tbp_lv_Hext', 'tbp_lv_L', \n    'tbp_lv_Lext', 'tbp_lv_areaMM2', 'tbp_lv_area_perim_ratio', 'tbp_lv_color_std_mean', \n    'tbp_lv_deltaA', 'tbp_lv_deltaB', 'tbp_lv_deltaL', 'tbp_lv_deltaLB',\n    'tbp_lv_deltaLBnorm', 'tbp_lv_eccentricity', 'tbp_lv_minorAxisMM',\n    'tbp_lv_nevi_confidence', 'tbp_lv_norm_border', 'tbp_lv_norm_color',\n    'tbp_lv_perimeterMM', 'tbp_lv_radial_color_std_max', 'tbp_lv_stdL',\n    'tbp_lv_stdLExt', 'tbp_lv_symm_2axis', 'tbp_lv_symm_2axis_angle',\n    'tbp_lv_x', 'tbp_lv_y', 'tbp_lv_z',\n] + new_num_cols\n\ncat_cols = [\"sex\", \"tbp_tile_type\", \"tbp_lv_location\", \"tbp_lv_location_simple\"] + new_cat_cols\ntrain_cols = num_cols + cat_cols\n\ncategory_encoder = OrdinalEncoder(\n    categories='auto',\n    dtype=int,\n    handle_unknown='use_encoded_value',\n    unknown_value=-2,\n    encoded_missing_value=-1,\n)\n\nX_cat = category_encoder.fit_transform(metadata[cat_cols])\nfor c, cat_col in enumerate(cat_cols):\n    metadata[cat_col] = X_cat[:, c]",
   "metadata": {
    "execution": {
     "iopub.status.busy": "2025-08-15T13:53:11.115222Z",
     "iopub.execute_input": "2025-08-15T13:53:11.115571Z",
     "iopub.status.idle": "2025-08-15T13:53:12.197447Z",
     "shell.execute_reply.started": "2025-08-15T13:53:11.115545Z",
     "shell.execute_reply": "2025-08-15T13:53:12.196203Z"
    },
    "trusted": true
   },
   "outputs": [],
   "execution_count": 9
  },
  {
   "cell_type": "code",
   "source": "pd.set_option('display.max_rows', None)\nprint(metadata.dtypes)",
   "metadata": {
    "trusted": true,
    "execution": {
     "iopub.status.busy": "2025-08-15T13:53:12.198651Z",
     "iopub.execute_input": "2025-08-15T13:53:12.198950Z",
     "iopub.status.idle": "2025-08-15T13:53:12.206861Z",
     "shell.execute_reply.started": "2025-08-15T13:53:12.198924Z",
     "shell.execute_reply": "2025-08-15T13:53:12.205670Z"
    },
    "scrolled": true
   },
   "outputs": [
    {
     "name": "stdout",
     "text": "isic_id                            object\ntarget                              int64\npatient_id                         object\nage_approx                        float64\nsex                                 int64\nanatom_site_general                object\nclin_size_long_diam_mm            float64\nimage_type                         object\ntbp_tile_type                       int64\ntbp_lv_A                          float64\ntbp_lv_Aext                       float64\ntbp_lv_B                          float64\ntbp_lv_Bext                       float64\ntbp_lv_C                          float64\ntbp_lv_Cext                       float64\ntbp_lv_H                          float64\ntbp_lv_Hext                       float64\ntbp_lv_L                          float64\ntbp_lv_Lext                       float64\ntbp_lv_areaMM2                    float64\ntbp_lv_area_perim_ratio           float64\ntbp_lv_color_std_mean             float64\ntbp_lv_deltaA                     float64\ntbp_lv_deltaB                     float64\ntbp_lv_deltaL                     float64\ntbp_lv_deltaLB                    float64\ntbp_lv_deltaLBnorm                float64\ntbp_lv_eccentricity               float64\ntbp_lv_location                     int64\ntbp_lv_location_simple              int64\ntbp_lv_minorAxisMM                float64\ntbp_lv_nevi_confidence            float64\ntbp_lv_norm_border                float64\ntbp_lv_norm_color                 float64\ntbp_lv_perimeterMM                float64\ntbp_lv_radial_color_std_max       float64\ntbp_lv_stdL                       float64\ntbp_lv_stdLExt                    float64\ntbp_lv_symm_2axis                 float64\ntbp_lv_symm_2axis_angle             int64\ntbp_lv_x                          float64\ntbp_lv_y                          float64\ntbp_lv_z                          float64\nattribution                        object\ncopyright_license                  object\niddx_full                          object\niddx_1                             object\ntbp_lv_dnn_lesion_confidence      float64\nlesion_size_ratio                 float64\nlesion_shape_index                float64\nhue_contrast                      float64\nluminance_contrast                float64\nlesion_color_difference           float64\nborder_complexity                 float64\n3d_position_distance              float64\nperimeter_to_area_ratio           float64\nlesion_visibility_score           float64\ncombined_anatomical_site            int64\nsymmetry_border_consistency       float64\ncolor_consistency                 float64\nsize_age_interaction              float64\nhue_color_std_interaction         float64\nlesion_severity_index             float64\nshape_complexity_index            float64\ncolor_contrast_index              float64\nlog_lesion_area                   float64\nnormalized_lesion_size            float64\nmean_hue_difference               float64\nstd_dev_contrast                  float64\ncolor_shape_composite_index       float64\n3d_lesion_orientation             float64\noverall_color_difference          float64\nsymmetry_perimeter_interaction    float64\ncomprehensive_lesion_index        float64\ndtype: object\n",
     "output_type": "stream"
    }
   ],
   "execution_count": 10
  },
  {
   "cell_type": "markdown",
   "source": "#### TRAIN TEST SPLIT GROUPED BY PATIENT-ID TO AVOID DATA LEAKAGE IN CROSS VALIDATION",
   "metadata": {}
  },
  {
   "cell_type": "code",
   "source": [
    "X = np.arange(len(metadata))  # indices or features, not important for splitting\n",
    "y = metadata['target']\n",
    "groups = metadata['patient_id']\n",
    "\n",
    "cv = StratifiedGroupKFold(n_splits=5, shuffle=True, random_state=42)\n",
    "\n",
    "for train_idx, val_idx in cv.split(X, y, groups):\n",
    "    train_df = metadata.iloc[train_idx]\n",
    "    val_df = metadata.iloc[val_idx]\n",
    "    break"
   ],
   "metadata": {
    "trusted": true,
    "execution": {
     "iopub.status.busy": "2025-08-15T13:53:12.208121Z",
     "iopub.execute_input": "2025-08-15T13:53:12.208412Z",
     "iopub.status.idle": "2025-08-15T13:53:13.556852Z",
     "shell.execute_reply.started": "2025-08-15T13:53:12.208387Z",
     "shell.execute_reply": "2025-08-15T13:53:13.555815Z"
    }
   },
   "outputs": [],
   "execution_count": 11
  },
  {
   "cell_type": "code",
   "source": "train_df = train_df.reset_index(drop=True)",
   "metadata": {
    "execution": {
     "iopub.status.busy": "2025-08-15T13:53:13.558378Z",
     "iopub.execute_input": "2025-08-15T13:53:13.558725Z",
     "iopub.status.idle": "2025-08-15T13:53:13.951647Z",
     "shell.execute_reply.started": "2025-08-15T13:53:13.558697Z",
     "shell.execute_reply": "2025-08-15T13:53:13.950735Z"
    },
    "trusted": true
   },
   "outputs": [],
   "execution_count": 12
  },
  {
   "cell_type": "markdown",
   "source": "## MODELLING \n\nLGBM performed best when compared adjacent to other GBDTs. Our final tabular model consists of a soft Voting ensemble which consists of 5 LGBM units, trained at different random_states",
   "metadata": {}
  },
  {
   "cell_type": "code",
   "source": [
    "def comp_pauc(y_true, y_pred, min_tpr=0.80):\n",
    "    v_gt = abs(np.asarray(y_true) - 1)\n",
    "    v_pred = 1.0 - np.asarray(y_pred)\n",
    "    max_fpr = abs(1 - min_tpr)\n",
    "    pauc_scaled = roc_auc_score(v_gt, v_pred, max_fpr=max_fpr)\n",
    "    pauc = 0.5 * max_fpr**2 + (max_fpr - 0.5 * max_fpr**2) / 0.5 * (pauc_scaled - 0.5)\n",
    "    return pauc\n",
    "\n",
    "train_cols = [c for c in train_df.columns if c not in [\"target\", \"patient_id\"] and train_df[c].dtype != 'O']\n",
    "\n",
    "\n",
    "# SMOTE on train data\n",
    "sm = SMOTE(random_state=42, k_neighbors=3)\n",
    "X_res, y_res = sm.fit_resample(train_df[train_cols], train_df[\"target\"])\n",
    "\n",
    "# PARAMS TUNED USING OPTUNA WITH PAUC OBJECTIVE\n",
    "lgb_params = {\n",
    "    'objective': 'binary',\n",
    "    \"random_state\": 42,\n",
    "    \"n_estimators\": 500,\n",
    "    'learning_rate': 0.01,\n",
    "    'bagging_freq': 1,\n",
    "    'pos_bagging_fraction': 0.75,\n",
    "    'neg_bagging_fraction': 0.05,\n",
    "    'feature_fraction': 0.8,\n",
    "    'lambda_l1': 0.8,\n",
    "    'lambda_l2': 0.8,\n",
    "    \"verbosity\": -1,\n",
    "}\n",
    "\n",
    "models = []\n",
    "for seed in [42, 52, 62, 72, 82]:\n",
    "    params = lgb_params.copy()\n",
    "    params['random_state'] = seed\n",
    "    models.append((f\"lgbm_{seed}\", lgb.LGBMClassifier(**params)))"
   ],
   "metadata": {
    "execution": {
     "iopub.status.busy": "2025-08-15T13:53:13.952707Z",
     "iopub.execute_input": "2025-08-15T13:53:13.952981Z",
     "iopub.status.idle": "2025-08-15T13:53:15.813840Z",
     "shell.execute_reply.started": "2025-08-15T13:53:13.952959Z",
     "shell.execute_reply": "2025-08-15T13:53:15.812801Z"
    },
    "trusted": true
   },
   "outputs": [],
   "execution_count": 13
  },
  {
   "cell_type": "code",
   "source": "# Voting ensemble\nvoter = VotingClassifier(estimators=models, voting='soft', n_jobs=-1)\nvoter.fit(X_res, y_res)",
   "metadata": {
    "execution": {
     "iopub.status.busy": "2025-08-15T13:53:15.814909Z",
     "iopub.execute_input": "2025-08-15T13:53:15.815318Z",
     "iopub.status.idle": "2025-08-15T13:59:51.753580Z",
     "shell.execute_reply.started": "2025-08-15T13:53:15.815295Z",
     "shell.execute_reply": "2025-08-15T13:59:51.752473Z"
    },
    "trusted": true
   },
   "outputs": [],
   "execution_count": null
  },
  {
   "cell_type": "markdown",
   "source": "### METRICS\n",
   "metadata": {}
  },
  {
   "cell_type": "code",
   "source": "y_pred_prob = voter.predict_proba(val_df[train_cols])[:, 1]\ny_pred_class = (y_pred_prob >= 0.5).astype(int)\n\nprint(classification_report(val_df[\"target\"], y_pred_class))\nprint(\"pAUC:\", comp_pauc(val_df[\"target\"], y_pred_prob))",
   "metadata": {
    "execution": {
     "iopub.status.busy": "2025-08-15T13:59:51.755103Z",
     "iopub.execute_input": "2025-08-15T13:59:51.755513Z",
     "iopub.status.idle": "2025-08-15T14:00:06.161624Z",
     "shell.execute_reply.started": "2025-08-15T13:59:51.755457Z",
     "shell.execute_reply": "2025-08-15T14:00:06.159574Z"
    },
    "trusted": true
   },
   "outputs": [
    {
     "name": "stdout",
     "text": "              precision    recall  f1-score   support\n\n           0       1.00      0.90      0.95     71081\n           1       0.01      0.81      0.02        83\n\n    accuracy                           0.90     71164\n   macro avg       0.50      0.85      0.48     71164\nweighted avg       1.00      0.90      0.94     71164\n\npAUC: 0.1583572313479802\n",
     "output_type": "stream"
    }
   ],
   "execution_count": 15
  },
  {
   "cell_type": "code",
   "source": [
    "cm = confusion_matrix(val_df[\"target\"], y_pred_class)\n",
    "print(\"Confusion Matrix:\\n\", cm)"
   ],
   "metadata": {
    "trusted": true,
    "execution": {
     "iopub.status.busy": "2025-08-15T14:00:06.162806Z",
     "iopub.execute_input": "2025-08-15T14:00:06.163108Z",
     "iopub.status.idle": "2025-08-15T14:00:06.183347Z",
     "shell.execute_reply.started": "2025-08-15T14:00:06.163083Z",
     "shell.execute_reply": "2025-08-15T14:00:06.182007Z"
    }
   },
   "outputs": [
    {
     "name": "stdout",
     "text": "Confusion Matrix:\n [[63695  7386]\n [   16    67]]\n",
     "output_type": "stream"
    }
   ],
   "execution_count": 16
  },
  {
   "cell_type": "code",
   "source": "importances = np.zeros(len(train_cols))\nfor name, model in voter.named_estimators_.items():\n    importances += model.feature_importances_\n\nimportances /= len(voter.named_estimators_)\n\nfi_df = pd.DataFrame({\n    \"feature\": train_cols,\n    \"importance\": importances\n}).sort_values(by=\"importance\", ascending=False)\n\nprint(fi_df.head(20))",
   "metadata": {
    "execution": {
     "iopub.status.busy": "2025-08-15T14:00:06.184646Z",
     "iopub.execute_input": "2025-08-15T14:00:06.184950Z",
     "iopub.status.idle": "2025-08-15T14:00:06.199286Z",
     "shell.execute_reply.started": "2025-08-15T14:00:06.184923Z",
     "shell.execute_reply": "2025-08-15T14:00:06.198235Z"
    },
    "trusted": true
   },
   "outputs": [
    {
     "name": "stdout",
     "text": "                         feature  importance\n38  tbp_lv_dnn_lesion_confidence      1215.8\n0                     age_approx      1002.2\n2         clin_size_long_diam_mm       696.8\n26        tbp_lv_nevi_confidence       690.2\n10                      tbp_lv_H       639.2\n43       lesion_color_difference       537.8\n36                      tbp_lv_y       511.2\n22           tbp_lv_eccentricity       494.8\n61         3d_lesion_orientation       465.0\n25            tbp_lv_minorAxisMM       438.2\n45          3d_position_distance       412.2\n3                  tbp_tile_type       398.0\n13                   tbp_lv_Lext       389.6\n1                            sex       384.6\n41                  hue_contrast       383.2\n18                 tbp_lv_deltaB       379.4\n14                tbp_lv_areaMM2       345.8\n34       tbp_lv_symm_2axis_angle       335.8\n37                      tbp_lv_z       327.2\n51          size_age_interaction       254.4\n",
     "output_type": "stream"
    }
   ],
   "execution_count": 17
  },
  {
   "cell_type": "code",
   "source": "\nfi_df.head(20).plot(kind='barh', x='feature', y='importance', figsize=(8, 6))\nplt.gca().invert_yaxis()\nplt.show()",
   "metadata": {
    "execution": {
     "iopub.status.busy": "2025-08-15T14:00:06.200945Z",
     "iopub.execute_input": "2025-08-15T14:00:06.201370Z",
     "iopub.status.idle": "2025-08-15T14:00:06.642978Z",
     "shell.execute_reply.started": "2025-08-15T14:00:06.201332Z",
     "shell.execute_reply": "2025-08-15T14:00:06.641921Z"
    },
    "trusted": true
   },
   "outputs": [
    {
     "output_type": "display_data",
     "data": {
      "text/plain": "<Figure size 800x600 with 1 Axes>",
      "image/png": "[encoded data removed]"
     },
     "metadata": {}
    }
   ],
   "execution_count": 18
  },
  {
   "cell_type": "code",
   "source": "preds_dict = {}\nfor name, model in voter.named_estimators_.items():\n    preds_dict[name] = model.predict_proba(metadata[train_cols])[:, 1]\n\npreds_df = pd.DataFrame(preds_dict)\npreds_df[\"ensemble\"] = voter.predict_proba(metadata[train_cols])[:, 1]\npreds_df[\"target\"] = metadata[\"target\"].values\npreds_df[\"isic_id\"] = metadata[\"isic_id\"].values\n\nprint(preds_df.head())",
   "metadata": {
    "trusted": true,
    "execution": {
     "iopub.status.busy": "2025-08-15T14:16:16.933729Z",
     "iopub.execute_input": "2025-08-15T14:16:16.934120Z",
     "iopub.status.idle": "2025-08-15T14:18:59.187425Z",
     "shell.execute_reply.started": "2025-08-15T14:16:16.934089Z",
     "shell.execute_reply": "2025-08-15T14:18:59.186148Z"
    }
   },
   "outputs": [
    {
     "name": "stdout",
     "text": "    lgbm_42   lgbm_52   lgbm_62   lgbm_72   lgbm_82  ensemble  target  \\\n0  0.015197  0.012859  0.018430  0.014540  0.013881  0.014981       0   \n1  0.994896  0.994877  0.994858  0.994904  0.994728  0.994852       0   \n2  0.009457  0.008784  0.008883  0.007815  0.008454  0.008679       0   \n3  0.017314  0.013926  0.014249  0.014940  0.013991  0.014884       0   \n4  0.203507  0.222469  0.274706  0.196490  0.217909  0.223016       0   \n\n        isic_id  \n0  ISIC_0015670  \n1  ISIC_0015845  \n2  ISIC_0015864  \n3  ISIC_0015902  \n4  ISIC_0024200  \n",
     "output_type": "stream"
    }
   ],
   "execution_count": 19
  },
  {
   "cell_type": "code",
   "source": "preds_df.to_csv('tabular_preds.csv')",
   "metadata": {
    "trusted": true,
    "execution": {
     "iopub.status.busy": "2025-08-15T14:23:34.900228Z",
     "iopub.execute_input": "2025-08-15T14:23:34.900576Z",
     "iopub.status.idle": "2025-08-15T14:23:39.360000Z",
     "shell.execute_reply.started": "2025-08-15T14:23:34.900548Z",
     "shell.execute_reply": "2025-08-15T14:23:39.358744Z"
    }
   },
   "outputs": [],
   "execution_count": 27
  }
 ]
}
